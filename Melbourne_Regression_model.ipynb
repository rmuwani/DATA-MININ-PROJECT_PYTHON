{
 "cells": [
  {
   "cell_type": "code",
   "execution_count": 34,
   "metadata": {},
   "outputs": [],
   "source": [
    "#PROJECTimport numpy as np\n",
    "import numpy as np\n",
    "import pandas as pd\n",
    "import seaborn as sns\n",
    "import matplotlib.pylab as plt\n",
    "#%matplotlib inline\n",
    "from sklearn.preprocessing import StandardScaler,MinMaxScaler\n",
    "from scipy.stats.contingency import chi2_contingency\n",
    "from sklearn.model_selection import train_test_split\n",
    "from sklearn.linear_model import LinearRegression\n",
    "from sklearn.metrics import mean_squared_error\n",
    "from sklearn.metrics import r2_score\n",
    "from itertools import cycle\n",
    "from sklearn import svm, datasets\n",
    "from sklearn.preprocessing import label_binarize\n",
    "from sklearn.multiclass import OneVsRestClassifier\n",
    "from scipy import interp\n",
    "from sklearn.metrics import roc_auc_score\n",
    "from sklearn.model_selection import cross_val_score"
   ]
  },
  {
   "cell_type": "code",
   "execution_count": 3,
   "metadata": {},
   "outputs": [],
   "source": [
    "df=pd.read_csv('Melbourne_housing_FULL.csv')"
   ]
  },
  {
   "cell_type": "code",
   "execution_count": 4,
   "metadata": {},
   "outputs": [
    {
     "data": {
      "text/html": [
       "<div>\n",
       "<style scoped>\n",
       "    .dataframe tbody tr th:only-of-type {\n",
       "        vertical-align: middle;\n",
       "    }\n",
       "\n",
       "    .dataframe tbody tr th {\n",
       "        vertical-align: top;\n",
       "    }\n",
       "\n",
       "    .dataframe thead th {\n",
       "        text-align: right;\n",
       "    }\n",
       "</style>\n",
       "<table border=\"1\" class=\"dataframe\">\n",
       "  <thead>\n",
       "    <tr style=\"text-align: right;\">\n",
       "      <th></th>\n",
       "      <th>Suburb</th>\n",
       "      <th>Address</th>\n",
       "      <th>Type</th>\n",
       "      <th>Price</th>\n",
       "      <th>Rooms</th>\n",
       "      <th>Method</th>\n",
       "      <th>SellerG</th>\n",
       "      <th>Date</th>\n",
       "      <th>Distance</th>\n",
       "      <th>Bedroom2</th>\n",
       "      <th>Bathroom</th>\n",
       "      <th>Car</th>\n",
       "      <th>Landsize</th>\n",
       "      <th>BuildingArea</th>\n",
       "      <th>YearBuilt</th>\n",
       "      <th>Lattitude</th>\n",
       "      <th>Longtitude</th>\n",
       "    </tr>\n",
       "  </thead>\n",
       "  <tbody>\n",
       "    <tr>\n",
       "      <td>0</td>\n",
       "      <td>Abbotsford</td>\n",
       "      <td>68 Studley St</td>\n",
       "      <td>h</td>\n",
       "      <td>NaN</td>\n",
       "      <td>2</td>\n",
       "      <td>SS</td>\n",
       "      <td>Jellis</td>\n",
       "      <td>3/09/2016</td>\n",
       "      <td>2.5</td>\n",
       "      <td>2.0</td>\n",
       "      <td>1.0</td>\n",
       "      <td>1.0</td>\n",
       "      <td>126.0</td>\n",
       "      <td>NaN</td>\n",
       "      <td>NaN</td>\n",
       "      <td>-37.8014</td>\n",
       "      <td>144.9958</td>\n",
       "    </tr>\n",
       "    <tr>\n",
       "      <td>1</td>\n",
       "      <td>Abbotsford</td>\n",
       "      <td>85 Turner St</td>\n",
       "      <td>h</td>\n",
       "      <td>1480000.0</td>\n",
       "      <td>2</td>\n",
       "      <td>S</td>\n",
       "      <td>Biggin</td>\n",
       "      <td>3/12/2016</td>\n",
       "      <td>2.5</td>\n",
       "      <td>2.0</td>\n",
       "      <td>1.0</td>\n",
       "      <td>1.0</td>\n",
       "      <td>202.0</td>\n",
       "      <td>NaN</td>\n",
       "      <td>NaN</td>\n",
       "      <td>-37.7996</td>\n",
       "      <td>144.9984</td>\n",
       "    </tr>\n",
       "    <tr>\n",
       "      <td>2</td>\n",
       "      <td>Abbotsford</td>\n",
       "      <td>25 Bloomburg St</td>\n",
       "      <td>h</td>\n",
       "      <td>1035000.0</td>\n",
       "      <td>2</td>\n",
       "      <td>S</td>\n",
       "      <td>Biggin</td>\n",
       "      <td>4/02/2016</td>\n",
       "      <td>2.5</td>\n",
       "      <td>2.0</td>\n",
       "      <td>1.0</td>\n",
       "      <td>0.0</td>\n",
       "      <td>156.0</td>\n",
       "      <td>79.0</td>\n",
       "      <td>1900.0</td>\n",
       "      <td>-37.8079</td>\n",
       "      <td>144.9934</td>\n",
       "    </tr>\n",
       "    <tr>\n",
       "      <td>3</td>\n",
       "      <td>Abbotsford</td>\n",
       "      <td>18/659 Victoria St</td>\n",
       "      <td>u</td>\n",
       "      <td>NaN</td>\n",
       "      <td>3</td>\n",
       "      <td>VB</td>\n",
       "      <td>Rounds</td>\n",
       "      <td>4/02/2016</td>\n",
       "      <td>2.5</td>\n",
       "      <td>3.0</td>\n",
       "      <td>2.0</td>\n",
       "      <td>1.0</td>\n",
       "      <td>0.0</td>\n",
       "      <td>NaN</td>\n",
       "      <td>NaN</td>\n",
       "      <td>-37.8114</td>\n",
       "      <td>145.0116</td>\n",
       "    </tr>\n",
       "    <tr>\n",
       "      <td>4</td>\n",
       "      <td>Abbotsford</td>\n",
       "      <td>5 Charles St</td>\n",
       "      <td>h</td>\n",
       "      <td>1465000.0</td>\n",
       "      <td>3</td>\n",
       "      <td>SP</td>\n",
       "      <td>Biggin</td>\n",
       "      <td>4/03/2017</td>\n",
       "      <td>2.5</td>\n",
       "      <td>3.0</td>\n",
       "      <td>2.0</td>\n",
       "      <td>0.0</td>\n",
       "      <td>134.0</td>\n",
       "      <td>150.0</td>\n",
       "      <td>1900.0</td>\n",
       "      <td>-37.8093</td>\n",
       "      <td>144.9944</td>\n",
       "    </tr>\n",
       "  </tbody>\n",
       "</table>\n",
       "</div>"
      ],
      "text/plain": [
       "       Suburb             Address Type      Price  Rooms Method SellerG  \\\n",
       "0  Abbotsford       68 Studley St    h        NaN      2     SS  Jellis   \n",
       "1  Abbotsford        85 Turner St    h  1480000.0      2      S  Biggin   \n",
       "2  Abbotsford     25 Bloomburg St    h  1035000.0      2      S  Biggin   \n",
       "3  Abbotsford  18/659 Victoria St    u        NaN      3     VB  Rounds   \n",
       "4  Abbotsford        5 Charles St    h  1465000.0      3     SP  Biggin   \n",
       "\n",
       "        Date  Distance  Bedroom2  Bathroom  Car  Landsize  BuildingArea  \\\n",
       "0  3/09/2016       2.5       2.0       1.0  1.0     126.0           NaN   \n",
       "1  3/12/2016       2.5       2.0       1.0  1.0     202.0           NaN   \n",
       "2  4/02/2016       2.5       2.0       1.0  0.0     156.0          79.0   \n",
       "3  4/02/2016       2.5       3.0       2.0  1.0       0.0           NaN   \n",
       "4  4/03/2017       2.5       3.0       2.0  0.0     134.0         150.0   \n",
       "\n",
       "   YearBuilt  Lattitude  Longtitude  \n",
       "0        NaN   -37.8014    144.9958  \n",
       "1        NaN   -37.7996    144.9984  \n",
       "2     1900.0   -37.8079    144.9934  \n",
       "3        NaN   -37.8114    145.0116  \n",
       "4     1900.0   -37.8093    144.9944  "
      ]
     },
     "execution_count": 4,
     "metadata": {},
     "output_type": "execute_result"
    }
   ],
   "source": [
    "df.head()"
   ]
  },
  {
   "cell_type": "code",
   "execution_count": 43,
   "metadata": {},
   "outputs": [
    {
     "data": {
      "text/plain": [
       "Index(['Suburb', 'Address', 'Type', 'Price', 'Rooms', 'Method', 'SellerG',\n",
       "       'Date', 'Distance', 'Bedroom2', 'Bathroom', 'Car', 'Landsize',\n",
       "       'BuildingArea', 'YearBuilt', 'Lattitude', 'Longtitude'],\n",
       "      dtype='object')"
      ]
     },
     "execution_count": 43,
     "metadata": {},
     "output_type": "execute_result"
    }
   ],
   "source": [
    "df.columns"
   ]
  },
  {
   "cell_type": "code",
   "execution_count": 5,
   "metadata": {},
   "outputs": [],
   "source": [
    "#drop irrelevant columns\n",
    "df.drop(['Suburb','Address','Type','Method','SellerG','Date',],axis=1,inplace=True)"
   ]
  },
  {
   "cell_type": "markdown",
   "metadata": {},
   "source": [
    "df.columns"
   ]
  },
  {
   "cell_type": "code",
   "execution_count": 6,
   "metadata": {},
   "outputs": [
    {
     "data": {
      "text/plain": [
       "Index(['Price', 'Rooms', 'Distance', 'Bedroom2', 'Bathroom', 'Car', 'Landsize',\n",
       "       'BuildingArea', 'YearBuilt', 'Lattitude', 'Longtitude'],\n",
       "      dtype='object')"
      ]
     },
     "execution_count": 6,
     "metadata": {},
     "output_type": "execute_result"
    }
   ],
   "source": [
    "\n",
    "df.columns"
   ]
  },
  {
   "cell_type": "code",
   "execution_count": 7,
   "metadata": {},
   "outputs": [
    {
     "data": {
      "text/plain": [
       "<matplotlib.axes._subplots.AxesSubplot at 0x249bf40af48>"
      ]
     },
     "execution_count": 7,
     "metadata": {},
     "output_type": "execute_result"
    },
    {
     "data": {
      "image/png": "[encoded data removed]",
      "text/plain": [
       "<Figure size 432x288 with 2 Axes>"
      ]
     },
     "metadata": {
      "needs_background": "light"
     },
     "output_type": "display_data"
    }
   ],
   "source": [
    "sns.heatmap(df.corr(),vmin=-1,vmax=1)"
   ]
  },
  {
   "cell_type": "code",
   "execution_count": null,
   "metadata": {},
   "outputs": [],
   "source": [
    "#change columns names\n",
    "\n",
    "y='Price'\n",
    "x1='Rooms'\n",
    "x2='Distance'\n",
    "x3='Bedroom2'\n",
    "x4='Bathroom'\n",
    "x5='Car'\n",
    "x6='Landsize'\n",
    "x7='BuildingArea'\n",
    "x8='YearBuilt'\n",
    "x9='Lattitude'\n",
    "x10='Longtitude'"
   ]
  },
  {
   "cell_type": "code",
   "execution_count": 8,
   "metadata": {},
   "outputs": [],
   "source": [
    "df.columns = ['y', 'x1-Rms', 'x2-Dist', 'x3-Bed', \n",
    "                'x4-Bath', 'x5-Car', 'x6-landsze', 'x7-BldArea','x8-yrBuilt','x9-latde','x10-Lonttde',] \n",
    "  "
   ]
  },
  {
   "cell_type": "code",
   "execution_count": 9,
   "metadata": {},
   "outputs": [
    {
     "data": {
      "text/plain": [
       "Index(['y', 'x1-Rms', 'x2-Dist', 'x3-Bed', 'x4-Bath', 'x5-Car', 'x6-landsze',\n",
       "       'x7-BldArea', 'x8-yrBuilt', 'x9-latde', 'x10-Lonttde'],\n",
       "      dtype='object')"
      ]
     },
     "execution_count": 9,
     "metadata": {},
     "output_type": "execute_result"
    }
   ],
   "source": [
    "df.columns"
   ]
  },
  {
   "cell_type": "code",
   "execution_count": 10,
   "metadata": {},
   "outputs": [
    {
     "data": {
      "text/html": [
       "<div>\n",
       "<style scoped>\n",
       "    .dataframe tbody tr th:only-of-type {\n",
       "        vertical-align: middle;\n",
       "    }\n",
       "\n",
       "    .dataframe tbody tr th {\n",
       "        vertical-align: top;\n",
       "    }\n",
       "\n",
       "    .dataframe thead th {\n",
       "        text-align: right;\n",
       "    }\n",
       "</style>\n",
       "<table border=\"1\" class=\"dataframe\">\n",
       "  <thead>\n",
       "    <tr style=\"text-align: right;\">\n",
       "      <th></th>\n",
       "      <th>y</th>\n",
       "      <th>x1-Rms</th>\n",
       "      <th>x2-Dist</th>\n",
       "      <th>x3-Bed</th>\n",
       "      <th>x4-Bath</th>\n",
       "      <th>x5-Car</th>\n",
       "      <th>x6-landsze</th>\n",
       "      <th>x7-BldArea</th>\n",
       "      <th>x8-yrBuilt</th>\n",
       "      <th>x9-latde</th>\n",
       "      <th>x10-Lonttde</th>\n",
       "    </tr>\n",
       "  </thead>\n",
       "  <tbody>\n",
       "    <tr>\n",
       "      <td>0</td>\n",
       "      <td>NaN</td>\n",
       "      <td>2</td>\n",
       "      <td>2.5</td>\n",
       "      <td>2.0</td>\n",
       "      <td>1.0</td>\n",
       "      <td>1.0</td>\n",
       "      <td>126.0</td>\n",
       "      <td>NaN</td>\n",
       "      <td>NaN</td>\n",
       "      <td>-37.8014</td>\n",
       "      <td>144.9958</td>\n",
       "    </tr>\n",
       "    <tr>\n",
       "      <td>1</td>\n",
       "      <td>1480000.0</td>\n",
       "      <td>2</td>\n",
       "      <td>2.5</td>\n",
       "      <td>2.0</td>\n",
       "      <td>1.0</td>\n",
       "      <td>1.0</td>\n",
       "      <td>202.0</td>\n",
       "      <td>NaN</td>\n",
       "      <td>NaN</td>\n",
       "      <td>-37.7996</td>\n",
       "      <td>144.9984</td>\n",
       "    </tr>\n",
       "    <tr>\n",
       "      <td>2</td>\n",
       "      <td>1035000.0</td>\n",
       "      <td>2</td>\n",
       "      <td>2.5</td>\n",
       "      <td>2.0</td>\n",
       "      <td>1.0</td>\n",
       "      <td>0.0</td>\n",
       "      <td>156.0</td>\n",
       "      <td>79.0</td>\n",
       "      <td>1900.0</td>\n",
       "      <td>-37.8079</td>\n",
       "      <td>144.9934</td>\n",
       "    </tr>\n",
       "    <tr>\n",
       "      <td>3</td>\n",
       "      <td>NaN</td>\n",
       "      <td>3</td>\n",
       "      <td>2.5</td>\n",
       "      <td>3.0</td>\n",
       "      <td>2.0</td>\n",
       "      <td>1.0</td>\n",
       "      <td>0.0</td>\n",
       "      <td>NaN</td>\n",
       "      <td>NaN</td>\n",
       "      <td>-37.8114</td>\n",
       "      <td>145.0116</td>\n",
       "    </tr>\n",
       "    <tr>\n",
       "      <td>4</td>\n",
       "      <td>1465000.0</td>\n",
       "      <td>3</td>\n",
       "      <td>2.5</td>\n",
       "      <td>3.0</td>\n",
       "      <td>2.0</td>\n",
       "      <td>0.0</td>\n",
       "      <td>134.0</td>\n",
       "      <td>150.0</td>\n",
       "      <td>1900.0</td>\n",
       "      <td>-37.8093</td>\n",
       "      <td>144.9944</td>\n",
       "    </tr>\n",
       "  </tbody>\n",
       "</table>\n",
       "</div>"
      ],
      "text/plain": [
       "           y  x1-Rms  x2-Dist  x3-Bed  x4-Bath  x5-Car  x6-landsze  \\\n",
       "0        NaN       2      2.5     2.0      1.0     1.0       126.0   \n",
       "1  1480000.0       2      2.5     2.0      1.0     1.0       202.0   \n",
       "2  1035000.0       2      2.5     2.0      1.0     0.0       156.0   \n",
       "3        NaN       3      2.5     3.0      2.0     1.0         0.0   \n",
       "4  1465000.0       3      2.5     3.0      2.0     0.0       134.0   \n",
       "\n",
       "   x7-BldArea  x8-yrBuilt  x9-latde  x10-Lonttde  \n",
       "0         NaN         NaN  -37.8014     144.9958  \n",
       "1         NaN         NaN  -37.7996     144.9984  \n",
       "2        79.0      1900.0  -37.8079     144.9934  \n",
       "3         NaN         NaN  -37.8114     145.0116  \n",
       "4       150.0      1900.0  -37.8093     144.9944  "
      ]
     },
     "execution_count": 10,
     "metadata": {},
     "output_type": "execute_result"
    }
   ],
   "source": [
    "df.head()"
   ]
  },
  {
   "cell_type": "code",
   "execution_count": 11,
   "metadata": {},
   "outputs": [
    {
     "data": {
      "text/plain": [
       "y              float64\n",
       "x1-Rms           int64\n",
       "x2-Dist        float64\n",
       "x3-Bed         float64\n",
       "x4-Bath        float64\n",
       "x5-Car         float64\n",
       "x6-landsze     float64\n",
       "x7-BldArea     float64\n",
       "x8-yrBuilt     float64\n",
       "x9-latde       float64\n",
       "x10-Lonttde    float64\n",
       "dtype: object"
      ]
     },
     "execution_count": 11,
     "metadata": {},
     "output_type": "execute_result"
    }
   ],
   "source": [
    "df.dtypes"
   ]
  },
  {
   "cell_type": "code",
   "execution_count": 12,
   "metadata": {},
   "outputs": [
    {
     "data": {
      "text/plain": [
       "y               7610\n",
       "x1-Rms             0\n",
       "x2-Dist            1\n",
       "x3-Bed          8217\n",
       "x4-Bath         8226\n",
       "x5-Car          8728\n",
       "x6-landsze     11810\n",
       "x7-BldArea     21115\n",
       "x8-yrBuilt     19306\n",
       "x9-latde        7976\n",
       "x10-Lonttde     7976\n",
       "dtype: int64"
      ]
     },
     "execution_count": 12,
     "metadata": {},
     "output_type": "execute_result"
    }
   ],
   "source": [
    "df.isnull().sum()"
   ]
  },
  {
   "cell_type": "code",
   "execution_count": 16,
   "metadata": {},
   "outputs": [],
   "source": [
    "df.dropna(inplace=True)"
   ]
  },
  {
   "cell_type": "code",
   "execution_count": 17,
   "metadata": {},
   "outputs": [
    {
     "name": "stdout",
     "output_type": "stream",
     "text": [
      "<class 'pandas.core.frame.DataFrame'>\n",
      "Int64Index: 8887 entries, 2 to 34856\n",
      "Data columns (total 11 columns):\n",
      "y              8887 non-null float64\n",
      "x1-Rms         8887 non-null int64\n",
      "x2-Dist        8887 non-null float64\n",
      "x3-Bed         8887 non-null float64\n",
      "x4-Bath        8887 non-null float64\n",
      "x5-Car         8887 non-null float64\n",
      "x6-landsze     8887 non-null float64\n",
      "x7-BldArea     8887 non-null float64\n",
      "x8-yrBuilt     8887 non-null float64\n",
      "x9-latde       8887 non-null float64\n",
      "x10-Lonttde    8887 non-null float64\n",
      "dtypes: float64(10), int64(1)\n",
      "memory usage: 833.2 KB\n"
     ]
    }
   ],
   "source": [
    "df.info()"
   ]
  },
  {
   "cell_type": "code",
   "execution_count": 18,
   "metadata": {},
   "outputs": [
    {
     "data": {
      "text/html": [
       "<div>\n",
       "<style scoped>\n",
       "    .dataframe tbody tr th:only-of-type {\n",
       "        vertical-align: middle;\n",
       "    }\n",
       "\n",
       "    .dataframe tbody tr th {\n",
       "        vertical-align: top;\n",
       "    }\n",
       "\n",
       "    .dataframe thead th {\n",
       "        text-align: right;\n",
       "    }\n",
       "</style>\n",
       "<table border=\"1\" class=\"dataframe\">\n",
       "  <thead>\n",
       "    <tr style=\"text-align: right;\">\n",
       "      <th></th>\n",
       "      <th>y</th>\n",
       "      <th>x1-Rms</th>\n",
       "      <th>x2-Dist</th>\n",
       "      <th>x3-Bed</th>\n",
       "      <th>x4-Bath</th>\n",
       "      <th>x5-Car</th>\n",
       "      <th>x6-landsze</th>\n",
       "      <th>x7-BldArea</th>\n",
       "      <th>x8-yrBuilt</th>\n",
       "      <th>x9-latde</th>\n",
       "      <th>x10-Lonttde</th>\n",
       "    </tr>\n",
       "  </thead>\n",
       "  <tbody>\n",
       "    <tr>\n",
       "      <td>2</td>\n",
       "      <td>1035000.0</td>\n",
       "      <td>2</td>\n",
       "      <td>2.5</td>\n",
       "      <td>2.0</td>\n",
       "      <td>1.0</td>\n",
       "      <td>0.0</td>\n",
       "      <td>156.0</td>\n",
       "      <td>79.0</td>\n",
       "      <td>1900.0</td>\n",
       "      <td>-37.8079</td>\n",
       "      <td>144.9934</td>\n",
       "    </tr>\n",
       "    <tr>\n",
       "      <td>4</td>\n",
       "      <td>1465000.0</td>\n",
       "      <td>3</td>\n",
       "      <td>2.5</td>\n",
       "      <td>3.0</td>\n",
       "      <td>2.0</td>\n",
       "      <td>0.0</td>\n",
       "      <td>134.0</td>\n",
       "      <td>150.0</td>\n",
       "      <td>1900.0</td>\n",
       "      <td>-37.8093</td>\n",
       "      <td>144.9944</td>\n",
       "    </tr>\n",
       "    <tr>\n",
       "      <td>6</td>\n",
       "      <td>1600000.0</td>\n",
       "      <td>4</td>\n",
       "      <td>2.5</td>\n",
       "      <td>3.0</td>\n",
       "      <td>1.0</td>\n",
       "      <td>2.0</td>\n",
       "      <td>120.0</td>\n",
       "      <td>142.0</td>\n",
       "      <td>2014.0</td>\n",
       "      <td>-37.8072</td>\n",
       "      <td>144.9941</td>\n",
       "    </tr>\n",
       "    <tr>\n",
       "      <td>11</td>\n",
       "      <td>1876000.0</td>\n",
       "      <td>3</td>\n",
       "      <td>2.5</td>\n",
       "      <td>4.0</td>\n",
       "      <td>2.0</td>\n",
       "      <td>0.0</td>\n",
       "      <td>245.0</td>\n",
       "      <td>210.0</td>\n",
       "      <td>1910.0</td>\n",
       "      <td>-37.8024</td>\n",
       "      <td>144.9993</td>\n",
       "    </tr>\n",
       "    <tr>\n",
       "      <td>14</td>\n",
       "      <td>1636000.0</td>\n",
       "      <td>2</td>\n",
       "      <td>2.5</td>\n",
       "      <td>2.0</td>\n",
       "      <td>1.0</td>\n",
       "      <td>2.0</td>\n",
       "      <td>256.0</td>\n",
       "      <td>107.0</td>\n",
       "      <td>1890.0</td>\n",
       "      <td>-37.8060</td>\n",
       "      <td>144.9954</td>\n",
       "    </tr>\n",
       "  </tbody>\n",
       "</table>\n",
       "</div>"
      ],
      "text/plain": [
       "            y  x1-Rms  x2-Dist  x3-Bed  x4-Bath  x5-Car  x6-landsze  \\\n",
       "2   1035000.0       2      2.5     2.0      1.0     0.0       156.0   \n",
       "4   1465000.0       3      2.5     3.0      2.0     0.0       134.0   \n",
       "6   1600000.0       4      2.5     3.0      1.0     2.0       120.0   \n",
       "11  1876000.0       3      2.5     4.0      2.0     0.0       245.0   \n",
       "14  1636000.0       2      2.5     2.0      1.0     2.0       256.0   \n",
       "\n",
       "    x7-BldArea  x8-yrBuilt  x9-latde  x10-Lonttde  \n",
       "2         79.0      1900.0  -37.8079     144.9934  \n",
       "4        150.0      1900.0  -37.8093     144.9944  \n",
       "6        142.0      2014.0  -37.8072     144.9941  \n",
       "11       210.0      1910.0  -37.8024     144.9993  \n",
       "14       107.0      1890.0  -37.8060     144.9954  "
      ]
     },
     "execution_count": 18,
     "metadata": {},
     "output_type": "execute_result"
    }
   ],
   "source": [
    "df.head()"
   ]
  },
  {
   "cell_type": "code",
   "execution_count": 19,
   "metadata": {},
   "outputs": [
    {
     "data": {
      "text/plain": [
       "2     1035000.0\n",
       "4     1465000.0\n",
       "6     1600000.0\n",
       "11    1876000.0\n",
       "14    1636000.0\n",
       "Name: y, dtype: float64"
      ]
     },
     "execution_count": 19,
     "metadata": {},
     "output_type": "execute_result"
    }
   ],
   "source": [
    "y=df.iloc[:,0]\n",
    "y.head()"
   ]
  },
  {
   "cell_type": "code",
   "execution_count": 20,
   "metadata": {},
   "outputs": [
    {
     "data": {
      "text/html": [
       "<div>\n",
       "<style scoped>\n",
       "    .dataframe tbody tr th:only-of-type {\n",
       "        vertical-align: middle;\n",
       "    }\n",
       "\n",
       "    .dataframe tbody tr th {\n",
       "        vertical-align: top;\n",
       "    }\n",
       "\n",
       "    .dataframe thead th {\n",
       "        text-align: right;\n",
       "    }\n",
       "</style>\n",
       "<table border=\"1\" class=\"dataframe\">\n",
       "  <thead>\n",
       "    <tr style=\"text-align: right;\">\n",
       "      <th></th>\n",
       "      <th>y</th>\n",
       "      <th>x1-Rms</th>\n",
       "      <th>x2-Dist</th>\n",
       "      <th>x3-Bed</th>\n",
       "      <th>x4-Bath</th>\n",
       "      <th>x5-Car</th>\n",
       "      <th>x6-landsze</th>\n",
       "      <th>x7-BldArea</th>\n",
       "      <th>x8-yrBuilt</th>\n",
       "      <th>x9-latde</th>\n",
       "      <th>x10-Lonttde</th>\n",
       "    </tr>\n",
       "  </thead>\n",
       "  <tbody>\n",
       "    <tr>\n",
       "      <td>y</td>\n",
       "      <td>1.000000</td>\n",
       "      <td>0.475074</td>\n",
       "      <td>-0.231212</td>\n",
       "      <td>0.460880</td>\n",
       "      <td>0.463501</td>\n",
       "      <td>0.209464</td>\n",
       "      <td>0.058375</td>\n",
       "      <td>0.507284</td>\n",
       "      <td>-0.313664</td>\n",
       "      <td>-0.224255</td>\n",
       "      <td>0.212174</td>\n",
       "    </tr>\n",
       "    <tr>\n",
       "      <td>x1-Rms</td>\n",
       "      <td>0.475074</td>\n",
       "      <td>1.000000</td>\n",
       "      <td>0.276585</td>\n",
       "      <td>0.964465</td>\n",
       "      <td>0.624070</td>\n",
       "      <td>0.401423</td>\n",
       "      <td>0.101158</td>\n",
       "      <td>0.606738</td>\n",
       "      <td>0.006935</td>\n",
       "      <td>0.018758</td>\n",
       "      <td>0.083016</td>\n",
       "    </tr>\n",
       "    <tr>\n",
       "      <td>x2-Dist</td>\n",
       "      <td>-0.231212</td>\n",
       "      <td>0.276585</td>\n",
       "      <td>1.000000</td>\n",
       "      <td>0.283460</td>\n",
       "      <td>0.122132</td>\n",
       "      <td>0.259374</td>\n",
       "      <td>0.138559</td>\n",
       "      <td>0.135509</td>\n",
       "      <td>0.313383</td>\n",
       "      <td>-0.055317</td>\n",
       "      <td>0.163941</td>\n",
       "    </tr>\n",
       "    <tr>\n",
       "      <td>x3-Bed</td>\n",
       "      <td>0.460880</td>\n",
       "      <td>0.964465</td>\n",
       "      <td>0.283460</td>\n",
       "      <td>1.000000</td>\n",
       "      <td>0.626493</td>\n",
       "      <td>0.405570</td>\n",
       "      <td>0.101035</td>\n",
       "      <td>0.595299</td>\n",
       "      <td>0.016310</td>\n",
       "      <td>0.022745</td>\n",
       "      <td>0.082671</td>\n",
       "    </tr>\n",
       "    <tr>\n",
       "      <td>x4-Bath</td>\n",
       "      <td>0.463501</td>\n",
       "      <td>0.624070</td>\n",
       "      <td>0.122132</td>\n",
       "      <td>0.626493</td>\n",
       "      <td>1.000000</td>\n",
       "      <td>0.310962</td>\n",
       "      <td>0.075939</td>\n",
       "      <td>0.553855</td>\n",
       "      <td>0.192914</td>\n",
       "      <td>-0.041859</td>\n",
       "      <td>0.109268</td>\n",
       "    </tr>\n",
       "    <tr>\n",
       "      <td>x5-Car</td>\n",
       "      <td>0.209464</td>\n",
       "      <td>0.401423</td>\n",
       "      <td>0.259374</td>\n",
       "      <td>0.405570</td>\n",
       "      <td>0.310962</td>\n",
       "      <td>1.000000</td>\n",
       "      <td>0.123498</td>\n",
       "      <td>0.317593</td>\n",
       "      <td>0.139255</td>\n",
       "      <td>0.015139</td>\n",
       "      <td>0.035589</td>\n",
       "    </tr>\n",
       "    <tr>\n",
       "      <td>x6-landsze</td>\n",
       "      <td>0.058375</td>\n",
       "      <td>0.101158</td>\n",
       "      <td>0.138559</td>\n",
       "      <td>0.101035</td>\n",
       "      <td>0.075939</td>\n",
       "      <td>0.123498</td>\n",
       "      <td>1.000000</td>\n",
       "      <td>0.083229</td>\n",
       "      <td>0.037753</td>\n",
       "      <td>0.042484</td>\n",
       "      <td>-0.008196</td>\n",
       "    </tr>\n",
       "    <tr>\n",
       "      <td>x7-BldArea</td>\n",
       "      <td>0.507284</td>\n",
       "      <td>0.606738</td>\n",
       "      <td>0.135509</td>\n",
       "      <td>0.595299</td>\n",
       "      <td>0.553855</td>\n",
       "      <td>0.317593</td>\n",
       "      <td>0.083229</td>\n",
       "      <td>1.000000</td>\n",
       "      <td>0.059936</td>\n",
       "      <td>-0.034626</td>\n",
       "      <td>0.097635</td>\n",
       "    </tr>\n",
       "    <tr>\n",
       "      <td>x8-yrBuilt</td>\n",
       "      <td>-0.313664</td>\n",
       "      <td>0.006935</td>\n",
       "      <td>0.313383</td>\n",
       "      <td>0.016310</td>\n",
       "      <td>0.192914</td>\n",
       "      <td>0.139255</td>\n",
       "      <td>0.037753</td>\n",
       "      <td>0.059936</td>\n",
       "      <td>1.000000</td>\n",
       "      <td>0.100030</td>\n",
       "      <td>-0.026886</td>\n",
       "    </tr>\n",
       "    <tr>\n",
       "      <td>x9-latde</td>\n",
       "      <td>-0.224255</td>\n",
       "      <td>0.018758</td>\n",
       "      <td>-0.055317</td>\n",
       "      <td>0.022745</td>\n",
       "      <td>-0.041859</td>\n",
       "      <td>0.015139</td>\n",
       "      <td>0.042484</td>\n",
       "      <td>-0.034626</td>\n",
       "      <td>0.100030</td>\n",
       "      <td>1.000000</td>\n",
       "      <td>-0.345797</td>\n",
       "    </tr>\n",
       "    <tr>\n",
       "      <td>x10-Lonttde</td>\n",
       "      <td>0.212174</td>\n",
       "      <td>0.083016</td>\n",
       "      <td>0.163941</td>\n",
       "      <td>0.082671</td>\n",
       "      <td>0.109268</td>\n",
       "      <td>0.035589</td>\n",
       "      <td>-0.008196</td>\n",
       "      <td>0.097635</td>\n",
       "      <td>-0.026886</td>\n",
       "      <td>-0.345797</td>\n",
       "      <td>1.000000</td>\n",
       "    </tr>\n",
       "  </tbody>\n",
       "</table>\n",
       "</div>"
      ],
      "text/plain": [
       "                    y    x1-Rms   x2-Dist    x3-Bed   x4-Bath    x5-Car  \\\n",
       "y            1.000000  0.475074 -0.231212  0.460880  0.463501  0.209464   \n",
       "x1-Rms       0.475074  1.000000  0.276585  0.964465  0.624070  0.401423   \n",
       "x2-Dist     -0.231212  0.276585  1.000000  0.283460  0.122132  0.259374   \n",
       "x3-Bed       0.460880  0.964465  0.283460  1.000000  0.626493  0.405570   \n",
       "x4-Bath      0.463501  0.624070  0.122132  0.626493  1.000000  0.310962   \n",
       "x5-Car       0.209464  0.401423  0.259374  0.405570  0.310962  1.000000   \n",
       "x6-landsze   0.058375  0.101158  0.138559  0.101035  0.075939  0.123498   \n",
       "x7-BldArea   0.507284  0.606738  0.135509  0.595299  0.553855  0.317593   \n",
       "x8-yrBuilt  -0.313664  0.006935  0.313383  0.016310  0.192914  0.139255   \n",
       "x9-latde    -0.224255  0.018758 -0.055317  0.022745 -0.041859  0.015139   \n",
       "x10-Lonttde  0.212174  0.083016  0.163941  0.082671  0.109268  0.035589   \n",
       "\n",
       "             x6-landsze  x7-BldArea  x8-yrBuilt  x9-latde  x10-Lonttde  \n",
       "y              0.058375    0.507284   -0.313664 -0.224255     0.212174  \n",
       "x1-Rms         0.101158    0.606738    0.006935  0.018758     0.083016  \n",
       "x2-Dist        0.138559    0.135509    0.313383 -0.055317     0.163941  \n",
       "x3-Bed         0.101035    0.595299    0.016310  0.022745     0.082671  \n",
       "x4-Bath        0.075939    0.553855    0.192914 -0.041859     0.109268  \n",
       "x5-Car         0.123498    0.317593    0.139255  0.015139     0.035589  \n",
       "x6-landsze     1.000000    0.083229    0.037753  0.042484    -0.008196  \n",
       "x7-BldArea     0.083229    1.000000    0.059936 -0.034626     0.097635  \n",
       "x8-yrBuilt     0.037753    0.059936    1.000000  0.100030    -0.026886  \n",
       "x9-latde       0.042484   -0.034626    0.100030  1.000000    -0.345797  \n",
       "x10-Lonttde   -0.008196    0.097635   -0.026886 -0.345797     1.000000  "
      ]
     },
     "execution_count": 20,
     "metadata": {},
     "output_type": "execute_result"
    }
   ],
   "source": [
    "df.corr()\n"
   ]
  },
  {
   "cell_type": "code",
   "execution_count": 21,
   "metadata": {},
   "outputs": [
    {
     "data": {
      "text/plain": [
       "<matplotlib.axes._subplots.AxesSubplot at 0x249bfbe9588>"
      ]
     },
     "execution_count": 21,
     "metadata": {},
     "output_type": "execute_result"
    },
    {
     "data": {
      "image/png": "[encoded data removed]",
      "text/plain": [
       "<Figure size 432x288 with 2 Axes>"
      ]
     },
     "metadata": {
      "needs_background": "light"
     },
     "output_type": "display_data"
    }
   ],
   "source": [
    "sns.heatmap(df.corr(),vmin=-1,vmax=1)"
   ]
  },
  {
   "cell_type": "code",
   "execution_count": 22,
   "metadata": {},
   "outputs": [
    {
     "data": {
      "text/plain": [
       "<bound method Series.sort_values of y              1.000000\n",
       "x1-Rms         0.475074\n",
       "x2-Dist        0.231212\n",
       "x3-Bed         0.460880\n",
       "x4-Bath        0.463501\n",
       "x5-Car         0.209464\n",
       "x6-landsze     0.058375\n",
       "x7-BldArea     0.507284\n",
       "x8-yrBuilt     0.313664\n",
       "x9-latde       0.224255\n",
       "x10-Lonttde    0.212174\n",
       "Name: y, dtype: float64>"
      ]
     },
     "execution_count": 22,
     "metadata": {},
     "output_type": "execute_result"
    }
   ],
   "source": [
    "absCorr=abs(df.corr()['y'])#.sort_values,ascending=False\n",
    "absCorr.sort_values\n"
   ]
  },
  {
   "cell_type": "code",
   "execution_count": 67,
   "metadata": {},
   "outputs": [],
   "source": [
    "import scipy.stats   \n",
    "import scipy.special "
   ]
  },
  {
   "cell_type": "code",
   "execution_count": 23,
   "metadata": {},
   "outputs": [],
   "source": [
    "X=df.iloc[:,1:]"
   ]
  },
  {
   "cell_type": "code",
   "execution_count": 24,
   "metadata": {},
   "outputs": [
    {
     "data": {
      "text/html": [
       "<div>\n",
       "<style scoped>\n",
       "    .dataframe tbody tr th:only-of-type {\n",
       "        vertical-align: middle;\n",
       "    }\n",
       "\n",
       "    .dataframe tbody tr th {\n",
       "        vertical-align: top;\n",
       "    }\n",
       "\n",
       "    .dataframe thead th {\n",
       "        text-align: right;\n",
       "    }\n",
       "</style>\n",
       "<table border=\"1\" class=\"dataframe\">\n",
       "  <thead>\n",
       "    <tr style=\"text-align: right;\">\n",
       "      <th></th>\n",
       "      <th>x1-Rms</th>\n",
       "      <th>x2-Dist</th>\n",
       "      <th>x3-Bed</th>\n",
       "      <th>x4-Bath</th>\n",
       "      <th>x5-Car</th>\n",
       "      <th>x6-landsze</th>\n",
       "      <th>x7-BldArea</th>\n",
       "      <th>x8-yrBuilt</th>\n",
       "      <th>x9-latde</th>\n",
       "      <th>x10-Lonttde</th>\n",
       "    </tr>\n",
       "  </thead>\n",
       "  <tbody>\n",
       "    <tr>\n",
       "      <td>2</td>\n",
       "      <td>2</td>\n",
       "      <td>2.5</td>\n",
       "      <td>2.0</td>\n",
       "      <td>1.0</td>\n",
       "      <td>0.0</td>\n",
       "      <td>156.0</td>\n",
       "      <td>79.0</td>\n",
       "      <td>1900.0</td>\n",
       "      <td>-37.8079</td>\n",
       "      <td>144.9934</td>\n",
       "    </tr>\n",
       "    <tr>\n",
       "      <td>4</td>\n",
       "      <td>3</td>\n",
       "      <td>2.5</td>\n",
       "      <td>3.0</td>\n",
       "      <td>2.0</td>\n",
       "      <td>0.0</td>\n",
       "      <td>134.0</td>\n",
       "      <td>150.0</td>\n",
       "      <td>1900.0</td>\n",
       "      <td>-37.8093</td>\n",
       "      <td>144.9944</td>\n",
       "    </tr>\n",
       "    <tr>\n",
       "      <td>6</td>\n",
       "      <td>4</td>\n",
       "      <td>2.5</td>\n",
       "      <td>3.0</td>\n",
       "      <td>1.0</td>\n",
       "      <td>2.0</td>\n",
       "      <td>120.0</td>\n",
       "      <td>142.0</td>\n",
       "      <td>2014.0</td>\n",
       "      <td>-37.8072</td>\n",
       "      <td>144.9941</td>\n",
       "    </tr>\n",
       "    <tr>\n",
       "      <td>11</td>\n",
       "      <td>3</td>\n",
       "      <td>2.5</td>\n",
       "      <td>4.0</td>\n",
       "      <td>2.0</td>\n",
       "      <td>0.0</td>\n",
       "      <td>245.0</td>\n",
       "      <td>210.0</td>\n",
       "      <td>1910.0</td>\n",
       "      <td>-37.8024</td>\n",
       "      <td>144.9993</td>\n",
       "    </tr>\n",
       "    <tr>\n",
       "      <td>14</td>\n",
       "      <td>2</td>\n",
       "      <td>2.5</td>\n",
       "      <td>2.0</td>\n",
       "      <td>1.0</td>\n",
       "      <td>2.0</td>\n",
       "      <td>256.0</td>\n",
       "      <td>107.0</td>\n",
       "      <td>1890.0</td>\n",
       "      <td>-37.8060</td>\n",
       "      <td>144.9954</td>\n",
       "    </tr>\n",
       "  </tbody>\n",
       "</table>\n",
       "</div>"
      ],
      "text/plain": [
       "    x1-Rms  x2-Dist  x3-Bed  x4-Bath  x5-Car  x6-landsze  x7-BldArea  \\\n",
       "2        2      2.5     2.0      1.0     0.0       156.0        79.0   \n",
       "4        3      2.5     3.0      2.0     0.0       134.0       150.0   \n",
       "6        4      2.5     3.0      1.0     2.0       120.0       142.0   \n",
       "11       3      2.5     4.0      2.0     0.0       245.0       210.0   \n",
       "14       2      2.5     2.0      1.0     2.0       256.0       107.0   \n",
       "\n",
       "    x8-yrBuilt  x9-latde  x10-Lonttde  \n",
       "2       1900.0  -37.8079     144.9934  \n",
       "4       1900.0  -37.8093     144.9944  \n",
       "6       2014.0  -37.8072     144.9941  \n",
       "11      1910.0  -37.8024     144.9993  \n",
       "14      1890.0  -37.8060     144.9954  "
      ]
     },
     "execution_count": 24,
     "metadata": {},
     "output_type": "execute_result"
    }
   ],
   "source": [
    "X.head()"
   ]
  },
  {
   "cell_type": "code",
   "execution_count": 62,
   "metadata": {},
   "outputs": [
    {
     "data": {
      "text/html": [
       "<div>\n",
       "<style scoped>\n",
       "    .dataframe tbody tr th:only-of-type {\n",
       "        vertical-align: middle;\n",
       "    }\n",
       "\n",
       "    .dataframe tbody tr th {\n",
       "        vertical-align: top;\n",
       "    }\n",
       "\n",
       "    .dataframe thead th {\n",
       "        text-align: right;\n",
       "    }\n",
       "</style>\n",
       "<table border=\"1\" class=\"dataframe\">\n",
       "  <thead>\n",
       "    <tr style=\"text-align: right;\">\n",
       "      <th></th>\n",
       "      <th>y</th>\n",
       "      <th>x1-Rms</th>\n",
       "      <th>x2-Dist</th>\n",
       "      <th>x3-Bed</th>\n",
       "      <th>x4-Bath</th>\n",
       "      <th>x5-Car</th>\n",
       "      <th>x6-landsze</th>\n",
       "      <th>x7-BldArea</th>\n",
       "      <th>x8-yrBuilt</th>\n",
       "      <th>x9-latde</th>\n",
       "      <th>x10-Lonttde</th>\n",
       "    </tr>\n",
       "  </thead>\n",
       "  <tbody>\n",
       "    <tr>\n",
       "      <td>count</td>\n",
       "      <td>8.887000e+03</td>\n",
       "      <td>8887.000000</td>\n",
       "      <td>8887.000000</td>\n",
       "      <td>8887.000000</td>\n",
       "      <td>8887.000000</td>\n",
       "      <td>8887.000000</td>\n",
       "      <td>8887.000000</td>\n",
       "      <td>8887.000000</td>\n",
       "      <td>8887.000000</td>\n",
       "      <td>8887.000000</td>\n",
       "      <td>8887.000000</td>\n",
       "    </tr>\n",
       "    <tr>\n",
       "      <td>mean</td>\n",
       "      <td>1.092902e+06</td>\n",
       "      <td>3.098909</td>\n",
       "      <td>11.199887</td>\n",
       "      <td>3.078204</td>\n",
       "      <td>1.646450</td>\n",
       "      <td>1.692247</td>\n",
       "      <td>523.480365</td>\n",
       "      <td>149.309477</td>\n",
       "      <td>1965.753348</td>\n",
       "      <td>-37.804501</td>\n",
       "      <td>144.991393</td>\n",
       "    </tr>\n",
       "    <tr>\n",
       "      <td>std</td>\n",
       "      <td>6.793819e+05</td>\n",
       "      <td>0.963786</td>\n",
       "      <td>6.813402</td>\n",
       "      <td>0.966269</td>\n",
       "      <td>0.721611</td>\n",
       "      <td>0.975464</td>\n",
       "      <td>1061.324228</td>\n",
       "      <td>87.925580</td>\n",
       "      <td>37.040876</td>\n",
       "      <td>0.090549</td>\n",
       "      <td>0.118919</td>\n",
       "    </tr>\n",
       "    <tr>\n",
       "      <td>min</td>\n",
       "      <td>1.310000e+05</td>\n",
       "      <td>1.000000</td>\n",
       "      <td>0.000000</td>\n",
       "      <td>0.000000</td>\n",
       "      <td>1.000000</td>\n",
       "      <td>0.000000</td>\n",
       "      <td>0.000000</td>\n",
       "      <td>0.000000</td>\n",
       "      <td>1196.000000</td>\n",
       "      <td>-38.174360</td>\n",
       "      <td>144.423790</td>\n",
       "    </tr>\n",
       "    <tr>\n",
       "      <td>25%</td>\n",
       "      <td>6.410000e+05</td>\n",
       "      <td>2.000000</td>\n",
       "      <td>6.400000</td>\n",
       "      <td>2.000000</td>\n",
       "      <td>1.000000</td>\n",
       "      <td>1.000000</td>\n",
       "      <td>212.000000</td>\n",
       "      <td>100.000000</td>\n",
       "      <td>1945.000000</td>\n",
       "      <td>-37.858560</td>\n",
       "      <td>144.920000</td>\n",
       "    </tr>\n",
       "    <tr>\n",
       "      <td>50%</td>\n",
       "      <td>9.000000e+05</td>\n",
       "      <td>3.000000</td>\n",
       "      <td>10.200000</td>\n",
       "      <td>3.000000</td>\n",
       "      <td>2.000000</td>\n",
       "      <td>2.000000</td>\n",
       "      <td>478.000000</td>\n",
       "      <td>132.000000</td>\n",
       "      <td>1970.000000</td>\n",
       "      <td>-37.798700</td>\n",
       "      <td>144.998500</td>\n",
       "    </tr>\n",
       "    <tr>\n",
       "      <td>75%</td>\n",
       "      <td>1.345000e+06</td>\n",
       "      <td>4.000000</td>\n",
       "      <td>13.900000</td>\n",
       "      <td>4.000000</td>\n",
       "      <td>2.000000</td>\n",
       "      <td>2.000000</td>\n",
       "      <td>652.000000</td>\n",
       "      <td>180.000000</td>\n",
       "      <td>2000.000000</td>\n",
       "      <td>-37.748945</td>\n",
       "      <td>145.064560</td>\n",
       "    </tr>\n",
       "    <tr>\n",
       "      <td>max</td>\n",
       "      <td>9.000000e+06</td>\n",
       "      <td>12.000000</td>\n",
       "      <td>47.400000</td>\n",
       "      <td>12.000000</td>\n",
       "      <td>9.000000</td>\n",
       "      <td>10.000000</td>\n",
       "      <td>42800.000000</td>\n",
       "      <td>3112.000000</td>\n",
       "      <td>2019.000000</td>\n",
       "      <td>-37.407200</td>\n",
       "      <td>145.526350</td>\n",
       "    </tr>\n",
       "  </tbody>\n",
       "</table>\n",
       "</div>"
      ],
      "text/plain": [
       "                  y       x1-Rms      x2-Dist       x3-Bed      x4-Bath  \\\n",
       "count  8.887000e+03  8887.000000  8887.000000  8887.000000  8887.000000   \n",
       "mean   1.092902e+06     3.098909    11.199887     3.078204     1.646450   \n",
       "std    6.793819e+05     0.963786     6.813402     0.966269     0.721611   \n",
       "min    1.310000e+05     1.000000     0.000000     0.000000     1.000000   \n",
       "25%    6.410000e+05     2.000000     6.400000     2.000000     1.000000   \n",
       "50%    9.000000e+05     3.000000    10.200000     3.000000     2.000000   \n",
       "75%    1.345000e+06     4.000000    13.900000     4.000000     2.000000   \n",
       "max    9.000000e+06    12.000000    47.400000    12.000000     9.000000   \n",
       "\n",
       "            x5-Car    x6-landsze   x7-BldArea   x8-yrBuilt     x9-latde  \\\n",
       "count  8887.000000   8887.000000  8887.000000  8887.000000  8887.000000   \n",
       "mean      1.692247    523.480365   149.309477  1965.753348   -37.804501   \n",
       "std       0.975464   1061.324228    87.925580    37.040876     0.090549   \n",
       "min       0.000000      0.000000     0.000000  1196.000000   -38.174360   \n",
       "25%       1.000000    212.000000   100.000000  1945.000000   -37.858560   \n",
       "50%       2.000000    478.000000   132.000000  1970.000000   -37.798700   \n",
       "75%       2.000000    652.000000   180.000000  2000.000000   -37.748945   \n",
       "max      10.000000  42800.000000  3112.000000  2019.000000   -37.407200   \n",
       "\n",
       "       x10-Lonttde  \n",
       "count  8887.000000  \n",
       "mean    144.991393  \n",
       "std       0.118919  \n",
       "min     144.423790  \n",
       "25%     144.920000  \n",
       "50%     144.998500  \n",
       "75%     145.064560  \n",
       "max     145.526350  "
      ]
     },
     "execution_count": 62,
     "metadata": {},
     "output_type": "execute_result"
    }
   ],
   "source": [
    "df.describe()"
   ]
  },
  {
   "cell_type": "code",
   "execution_count": 25,
   "metadata": {},
   "outputs": [],
   "source": [
    "#preprocessing\n",
    "from sklearn.preprocessing import StandardScaler\n",
    "sc=StandardScaler()\n",
    "X_scaled=sc.fit_transform(X)"
   ]
  },
  {
   "cell_type": "code",
   "execution_count": 32,
   "metadata": {},
   "outputs": [
    {
     "data": {
      "text/plain": [
       "0.5573258387303222"
      ]
     },
     "execution_count": 32,
     "metadata": {},
     "output_type": "execute_result"
    }
   ],
   "source": [
    "#check for accuracy-use r2 for regression\n",
    "classifier = LinearRegression()\n",
    "scores= cross_val_score(classifier, X,y, cv=3, scoring='r2')\n",
    "scores.mean()"
   ]
  },
  {
   "cell_type": "code",
   "execution_count": 64,
   "metadata": {},
   "outputs": [
    {
     "data": {
      "text/plain": [
       "450409.16099638824"
      ]
     },
     "execution_count": 64,
     "metadata": {},
     "output_type": "execute_result"
    }
   ],
   "source": [
    "#find the RMSE\n",
    "(np.sqrt(-cross_val_score(classifier, X, y, cv=3, scoring='neg_mean_squared_error')).mean())"
   ]
  },
  {
   "cell_type": "code",
   "execution_count": 66,
   "metadata": {},
   "outputs": [
    {
     "data": {
      "text/plain": [
       "0.5573258387303249"
      ]
     },
     "execution_count": 66,
     "metadata": {},
     "output_type": "execute_result"
    }
   ],
   "source": [
    "scores.mean()"
   ]
  },
  {
   "cell_type": "code",
   "execution_count": 67,
   "metadata": {},
   "outputs": [
    {
     "name": "stdout",
     "output_type": "stream",
     "text": [
      "[0.59803187 0.56550792 0.50843772]\n"
     ]
    }
   ],
   "source": [
    "print(scores)"
   ]
  },
  {
   "cell_type": "code",
   "execution_count": 47,
   "metadata": {},
   "outputs": [],
   "source": [
    "from sklearn.model_selection import train_test_split"
   ]
  },
  {
   "cell_type": "code",
   "execution_count": 48,
   "metadata": {},
   "outputs": [],
   "source": [
    "X_train,X_test,y_train,y_test=train_test_split(X,y,test_size=0.30,random_state=0)\n"
   ]
  },
  {
   "cell_type": "code",
   "execution_count": 49,
   "metadata": {},
   "outputs": [],
   "source": [
    "from sklearn.preprocessing import StandardScaler\n",
    "sc=StandardScaler()"
   ]
  },
  {
   "cell_type": "code",
   "execution_count": 51,
   "metadata": {},
   "outputs": [],
   "source": [
    "X_train_scaled=sc.fit_transform(X_train)\n",
    "X_test_scaled=sc.fit_transform(X_test)"
   ]
  },
  {
   "cell_type": "code",
   "execution_count": 52,
   "metadata": {},
   "outputs": [
    {
     "data": {
      "text/plain": [
       "array([-0.07645953, -1.12758105, -0.07645953, ..., -0.07645953,\n",
       "       -2.17870257,  0.97466198])"
      ]
     },
     "execution_count": 52,
     "metadata": {},
     "output_type": "execute_result"
    }
   ],
   "source": [
    "X_test_scaled[:,0]"
   ]
  },
  {
   "cell_type": "code",
   "execution_count": 53,
   "metadata": {},
   "outputs": [
    {
     "data": {
      "text/plain": [
       "x1-Rms         1.461994e+05\n",
       "x2-Dist       -2.815612e+04\n",
       "x3-Bed        -2.372563e+04\n",
       "x4-Bath        2.156485e+05\n",
       "x5-Car         4.591213e+04\n",
       "x6-landsze     2.252248e+01\n",
       "x7-BldArea     2.602126e+03\n",
       "x8-yrBuilt    -5.554401e+03\n",
       "x9-latde      -1.108610e+06\n",
       "x10-Lonttde   -2.124299e+05\n",
       "dtype: float64"
      ]
     },
     "execution_count": 53,
     "metadata": {},
     "output_type": "execute_result"
    }
   ],
   "source": [
    "import statsmodels.api as sm\n",
    "X2_train=sm.add_constant(X_train_scaled)\n",
    "X2_test=sm.add_constant(X_test_scaled)\n",
    "ols=sm.OLS(y_train,X_train)\n",
    "lr=ols.fit()\n",
    "lr.params"
   ]
  },
  {
   "cell_type": "code",
   "execution_count": 74,
   "metadata": {},
   "outputs": [
    {
     "name": "stdout",
     "output_type": "stream",
     "text": [
      "                                 OLS Regression Results                                \n",
      "=======================================================================================\n",
      "Dep. Variable:                      y   R-squared (uncentered):                   0.888\n",
      "Model:                            OLS   Adj. R-squared (uncentered):              0.887\n",
      "Method:                 Least Squares   F-statistic:                              4905.\n",
      "Date:                Sat, 22 Feb 2020   Prob (F-statistic):                        0.00\n",
      "Time:                        09:34:14   Log-Likelihood:                         -89473.\n",
      "No. Observations:                6220   AIC:                                  1.790e+05\n",
      "Df Residuals:                    6210   BIC:                                  1.790e+05\n",
      "Df Model:                          10                                                  \n",
      "Covariance Type:            nonrobust                                                  \n",
      "===============================================================================\n",
      "                  coef    std err          t      P>|t|      [0.025      0.975]\n",
      "-------------------------------------------------------------------------------\n",
      "x1-Rms       1.462e+05   2.24e+04      6.522      0.000    1.02e+05     1.9e+05\n",
      "x2-Dist     -2.816e+04    899.710    -31.295      0.000   -2.99e+04   -2.64e+04\n",
      "x3-Bed      -2.373e+04   2.24e+04     -1.057      0.290   -6.77e+04    2.03e+04\n",
      "x4-Bath      2.156e+05   1.07e+04     20.174      0.000    1.95e+05    2.37e+05\n",
      "x5-Car       4.591e+04   6270.651      7.322      0.000    3.36e+04    5.82e+04\n",
      "x6-landsze     22.5225      5.068      4.444      0.000      12.587      32.458\n",
      "x7-BldArea   2602.1261     91.799     28.346      0.000    2422.168    2782.084\n",
      "x8-yrBuilt  -5554.4011    167.121    -33.236      0.000   -5882.017   -5226.785\n",
      "x9-latde    -1.109e+06    6.4e+04    -17.328      0.000   -1.23e+06   -9.83e+05\n",
      "x10-Lonttde -2.124e+05   1.71e+04    -12.398      0.000   -2.46e+05   -1.79e+05\n",
      "==============================================================================\n",
      "Omnibus:                     2440.176   Durbin-Watson:                   2.019\n",
      "Prob(Omnibus):                  0.000   Jarque-Bera (JB):            34197.914\n",
      "Skew:                           1.487   Prob(JB):                         0.00\n",
      "Kurtosis:                      14.095   Cond. No.                     2.53e+04\n",
      "==============================================================================\n",
      "\n",
      "Warnings:\n",
      "[1] Standard Errors assume that the covariance matrix of the errors is correctly specified.\n",
      "[2] The condition number is large, 2.53e+04. This might indicate that there are\n",
      "strong multicollinearity or other numerical problems.\n"
     ]
    }
   ],
   "source": [
    "print(lr.summary())"
   ]
  },
  {
   "cell_type": "code",
   "execution_count": 54,
   "metadata": {},
   "outputs": [],
   "source": [
    "while lr.pvalues.max()>0.05:\n",
    "    X2_train=np.delete(X2_train,lr.pvalues.values.argmax(),axis=1)\n",
    "    X2_test=np.delete(X2_test,lr.pvalues.values.argmax(),axis=1)\n",
    "    ols=sm.OLS(y_train,X2_train)\n",
    "    lr=ols.fit()"
   ]
  },
  {
   "cell_type": "code",
   "execution_count": 77,
   "metadata": {},
   "outputs": [
    {
     "name": "stdout",
     "output_type": "stream",
     "text": [
      "                            OLS Regression Results                            \n",
      "==============================================================================\n",
      "Dep. Variable:                      y   R-squared:                       0.527\n",
      "Model:                            OLS   Adj. R-squared:                  0.527\n",
      "Method:                 Least Squares   F-statistic:                     866.1\n",
      "Date:                Sat, 22 Feb 2020   Prob (F-statistic):               0.00\n",
      "Time:                        09:35:43   Log-Likelihood:                -89852.\n",
      "No. Observations:                6220   AIC:                         1.797e+05\n",
      "Df Residuals:                    6211   BIC:                         1.798e+05\n",
      "Df Model:                           8                                         \n",
      "Covariance Type:            nonrobust                                         \n",
      "==============================================================================\n",
      "                 coef    std err          t      P>|t|      [0.025      0.975]\n",
      "------------------------------------------------------------------------------\n",
      "const       1.091e+06   5765.953    189.188      0.000    1.08e+06     1.1e+06\n",
      "x1          1.188e+05   2.31e+04      5.152      0.000    7.36e+04    1.64e+05\n",
      "x2         -7.279e+04    2.3e+04     -3.160      0.002   -1.18e+05   -2.76e+04\n",
      "x3          1.878e+05   8149.643     23.049      0.000    1.72e+05    2.04e+05\n",
      "x4          2.002e+04   6447.630      3.104      0.002    7376.709    3.27e+04\n",
      "x5          2.191e+05   8018.332     27.328      0.000    2.03e+05    2.35e+05\n",
      "x6         -2.578e+05   6048.171    -42.623      0.000    -2.7e+05   -2.46e+05\n",
      "x7         -8.848e+04   6222.897    -14.218      0.000   -1.01e+05   -7.63e+04\n",
      "x8          5.475e+04   6201.084      8.829      0.000    4.26e+04    6.69e+04\n",
      "==============================================================================\n",
      "Omnibus:                     2421.344   Durbin-Watson:                   2.021\n",
      "Prob(Omnibus):                  0.000   Jarque-Bera (JB):            29927.387\n",
      "Skew:                           1.511   Prob(JB):                         0.00\n",
      "Kurtosis:                      13.312   Cond. No.                         10.2\n",
      "==============================================================================\n",
      "\n",
      "Warnings:\n",
      "[1] Standard Errors assume that the covariance matrix of the errors is correctly specified.\n"
     ]
    }
   ],
   "source": [
    "print(lr.summary())"
   ]
  },
  {
   "cell_type": "code",
   "execution_count": 56,
   "metadata": {},
   "outputs": [],
   "source": [
    "y_pred_train=lr.predict(X2_train)\n",
    "y_pred_test=lr.predict(X2_test)"
   ]
  },
  {
   "cell_type": "code",
   "execution_count": 57,
   "metadata": {},
   "outputs": [
    {
     "data": {
      "text/plain": [
       "874955.6167579192"
      ]
     },
     "execution_count": 57,
     "metadata": {},
     "output_type": "execute_result"
    }
   ],
   "source": [
    "(y_pred_train)[5]\n"
   ]
  },
  {
   "cell_type": "code",
   "execution_count": 58,
   "metadata": {},
   "outputs": [
    {
     "data": {
      "text/plain": [
       "356870.70487389097"
      ]
     },
     "execution_count": 58,
     "metadata": {},
     "output_type": "execute_result"
    }
   ],
   "source": [
    "y_pred_test[5]"
   ]
  },
  {
   "cell_type": "code",
   "execution_count": 59,
   "metadata": {},
   "outputs": [
    {
     "data": {
      "text/plain": [
       "0.4514871430877949"
      ]
     },
     "execution_count": 59,
     "metadata": {},
     "output_type": "execute_result"
    }
   ],
   "source": [
    "r2_score(y_test,y_pred_test)"
   ]
  },
  {
   "cell_type": "code",
   "execution_count": 60,
   "metadata": {},
   "outputs": [
    {
     "data": {
      "text/plain": [
       "454414.1604139371"
      ]
     },
     "execution_count": 60,
     "metadata": {},
     "output_type": "execute_result"
    }
   ],
   "source": [
    "np.sqrt(mean_squared_error(y_train,y_pred_train))\n"
   ]
  },
  {
   "cell_type": "code",
   "execution_count": 61,
   "metadata": {},
   "outputs": [
    {
     "data": {
      "text/plain": [
       "533538.796437373"
      ]
     },
     "execution_count": 61,
     "metadata": {},
     "output_type": "execute_result"
    }
   ],
   "source": [
    "np.sqrt(mean_squared_error(y_test,y_pred_test))"
   ]
  },
  {
   "cell_type": "code",
   "execution_count": 90,
   "metadata": {},
   "outputs": [],
   "source": [
    "r2=r2_score(y_test,y_pred_test)"
   ]
  },
  {
   "cell_type": "code",
   "execution_count": 92,
   "metadata": {},
   "outputs": [],
   "source": [
    "adjustedR2=1-(1-r2)*((len(X2_test)-1)/(len(X2_test)-len(X2_test[0])))"
   ]
  },
  {
   "cell_type": "code",
   "execution_count": 93,
   "metadata": {},
   "outputs": [
    {
     "name": "stdout",
     "output_type": "stream",
     "text": [
      "0.4514871430877948 0.4498362390790297\n"
     ]
    }
   ],
   "source": [
    "print(r2,adjustedR2)"
   ]
  },
  {
   "cell_type": "code",
   "execution_count": 108,
   "metadata": {},
   "outputs": [
    {
     "data": {
      "text/plain": [
       "Text(0, 0.5, 'Predictions')"
      ]
     },
     "execution_count": 108,
     "metadata": {},
     "output_type": "execute_result"
    },
    {
     "data": {
      "image/png": "[encoded data removed]",
      "text/plain": [
       "<Figure size 432x288 with 1 Axes>"
      ]
     },
     "metadata": {
      "needs_background": "light"
     },
     "output_type": "display_data"
    }
   ],
   "source": [
    "## check model fittness/accurancy in prediction \n",
    "plt.scatter(y_test, y_pred_test)\n",
    "plt.title('Model Accuracy')\n",
    "plt.xlabel('True Values')\n",
    "plt.ylabel('Predictions')"
   ]
  },
  {
   "cell_type": "code",
   "execution_count": 102,
   "metadata": {},
   "outputs": [],
   "source": [
    "#check for accuracy-kfold\n",
    "classifier = LinearRegression()\n",
    "scores= cross_val_score(classifier, X_test,y_test, cv=3, scoring='r2')"
   ]
  },
  {
   "cell_type": "code",
   "execution_count": 98,
   "metadata": {},
   "outputs": [
    {
     "data": {
      "text/plain": [
       "0.5095879990676402"
      ]
     },
     "execution_count": 98,
     "metadata": {},
     "output_type": "execute_result"
    }
   ],
   "source": [
    "scores.mean()"
   ]
  },
  {
   "cell_type": "code",
   "execution_count": 99,
   "metadata": {},
   "outputs": [
    {
     "name": "stdout",
     "output_type": "stream",
     "text": [
      "[0.43350461 0.58157862 0.51368077]\n"
     ]
    }
   ],
   "source": [
    "print(scores)"
   ]
  }
 ],
 "metadata": {
  "kernelspec": {
   "display_name": "Python 3",
   "language": "python",
   "name": "python3"
  },
  "language_info": {
   "codemirror_mode": {
    "name": "ipython",
    "version": 3
   },
   "file_extension": ".py",
   "mimetype": "text/x-python",
   "name": "python",
   "nbconvert_exporter": "python",
   "pygments_lexer": "ipython3",
   "version": "3.7.4"
  }
 },
 "nbformat": 4,
 "nbformat_minor": 2
}
